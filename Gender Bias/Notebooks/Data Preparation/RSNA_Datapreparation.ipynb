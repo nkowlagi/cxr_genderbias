{
 "cells": [
  {
   "cell_type": "code",
   "execution_count": 1,
   "id": "prepared-workshop",
   "metadata": {},
   "outputs": [],
   "source": [
    "import pydicom\n",
    "import matplotlib.pyplot as plt\n",
    "from PIL import Image\n",
    "from sklearn.utils import shuffle\n",
    "import pandas as pd\n",
    "import numpy as np\n",
    "from shutil import copyfile\n",
    "import seaborn as sns\n",
    "import cv2\n",
    "import os\n",
    "import warnings\n",
    "warnings.filterwarnings('ignore')"
   ]
  },
  {
   "cell_type": "code",
   "execution_count": 3,
   "id": "superb-homeless",
   "metadata": {},
   "outputs": [
    {
     "data": {
      "text/html": [
       "<div>\n",
       "<style scoped>\n",
       "    .dataframe tbody tr th:only-of-type {\n",
       "        vertical-align: middle;\n",
       "    }\n",
       "\n",
       "    .dataframe tbody tr th {\n",
       "        vertical-align: top;\n",
       "    }\n",
       "\n",
       "    .dataframe thead th {\n",
       "        text-align: right;\n",
       "    }\n",
       "</style>\n",
       "<table border=\"1\" class=\"dataframe\">\n",
       "  <thead>\n",
       "    <tr style=\"text-align: right;\">\n",
       "      <th></th>\n",
       "      <th>patientId</th>\n",
       "      <th>x</th>\n",
       "      <th>y</th>\n",
       "      <th>width</th>\n",
       "      <th>height</th>\n",
       "      <th>Target</th>\n",
       "    </tr>\n",
       "  </thead>\n",
       "  <tbody>\n",
       "    <tr>\n",
       "      <th>0</th>\n",
       "      <td>0004cfab-14fd-4e49-80ba-63a80b6bddd6</td>\n",
       "      <td>NaN</td>\n",
       "      <td>NaN</td>\n",
       "      <td>NaN</td>\n",
       "      <td>NaN</td>\n",
       "      <td>0</td>\n",
       "    </tr>\n",
       "    <tr>\n",
       "      <th>1</th>\n",
       "      <td>00313ee0-9eaa-42f4-b0ab-c148ed3241cd</td>\n",
       "      <td>NaN</td>\n",
       "      <td>NaN</td>\n",
       "      <td>NaN</td>\n",
       "      <td>NaN</td>\n",
       "      <td>0</td>\n",
       "    </tr>\n",
       "    <tr>\n",
       "      <th>2</th>\n",
       "      <td>00322d4d-1c29-4943-afc9-b6754be640eb</td>\n",
       "      <td>NaN</td>\n",
       "      <td>NaN</td>\n",
       "      <td>NaN</td>\n",
       "      <td>NaN</td>\n",
       "      <td>0</td>\n",
       "    </tr>\n",
       "  </tbody>\n",
       "</table>\n",
       "</div>"
      ],
      "text/plain": [
       "                              patientId   x   y  width  height  Target\n",
       "0  0004cfab-14fd-4e49-80ba-63a80b6bddd6 NaN NaN    NaN     NaN       0\n",
       "1  00313ee0-9eaa-42f4-b0ab-c148ed3241cd NaN NaN    NaN     NaN       0\n",
       "2  00322d4d-1c29-4943-afc9-b6754be640eb NaN NaN    NaN     NaN       0"
      ]
     },
     "execution_count": 3,
     "metadata": {},
     "output_type": "execute_result"
    }
   ],
   "source": [
    "rsna_labels=pd.read_csv('C:\\\\Chest X-rays\\\\Datasets\\\\RSNA_Pneumonia_Dataset\\\\stage_2_train_labels.csv')\n",
    "rsna_labels.head(3)"
   ]
  },
  {
   "cell_type": "code",
   "execution_count": 4,
   "id": "herbal-demonstration",
   "metadata": {},
   "outputs": [],
   "source": [
    "def get_RSNA_dataframe(xray_folder):\n",
    "    data=[]\n",
    "    for patient_id in os.listdir(xray_folder):\n",
    "        xray_data=[]\n",
    "        dcm_file=xray_folder+patient_id\n",
    "        dcm_data = pydicom.read_file(dcm_file)\n",
    "        label=rsna_labels[rsna_labels['patientId']==patient_id.replace(\".dcm\",\"\")]['Target'].values[0]\n",
    "        xray_data=[patient_id.replace(\".dcm\",\"\"),patient_id,patient_id.replace(\".dcm\",\".png\"),dcm_data.PatientSex,dcm_data.PatientAge,dcm_data.ViewPosition,label]\n",
    "        data.append(xray_data)\n",
    "    rsna_df=pd.DataFrame(data=data,columns=['patient_id','dicom','xray','sex','age','view_position','label'])   \n",
    "    return rsna_df"
   ]
  },
  {
   "cell_type": "code",
   "execution_count": 5,
   "id": "soviet-closing",
   "metadata": {},
   "outputs": [],
   "source": [
    "def convert_dcm_png(src,target):\n",
    "    dcm_file=src\n",
    "    dcm_data = pydicom.read_file(dcm_file)\n",
    "    img = dcm_data.pixel_array\n",
    "    cv2.imwrite(target,img)"
   ]
  },
  {
   "cell_type": "code",
   "execution_count": 6,
   "id": "foreign-maldives",
   "metadata": {},
   "outputs": [
    {
     "name": "stdout",
     "output_type": "stream",
     "text": [
      "Wall time: 1min 47s\n"
     ]
    }
   ],
   "source": [
    "%%time\n",
    "xray_folder=\"C:\\\\Chest X-rays\\\\Datasets\\\\RSNA_Pneumonia_Dataset\\\\stage_2_train_images\\\\\"\n",
    "rsna_data=get_RSNA_dataframe(xray_folder)"
   ]
  },
  {
   "cell_type": "code",
   "execution_count": 7,
   "id": "foreign-syndicate",
   "metadata": {},
   "outputs": [
    {
     "data": {
      "text/html": [
       "<div>\n",
       "<style scoped>\n",
       "    .dataframe tbody tr th:only-of-type {\n",
       "        vertical-align: middle;\n",
       "    }\n",
       "\n",
       "    .dataframe tbody tr th {\n",
       "        vertical-align: top;\n",
       "    }\n",
       "\n",
       "    .dataframe thead th {\n",
       "        text-align: right;\n",
       "    }\n",
       "</style>\n",
       "<table border=\"1\" class=\"dataframe\">\n",
       "  <thead>\n",
       "    <tr style=\"text-align: right;\">\n",
       "      <th></th>\n",
       "      <th>patient_id</th>\n",
       "      <th>dicom</th>\n",
       "      <th>xray</th>\n",
       "      <th>sex</th>\n",
       "      <th>age</th>\n",
       "      <th>view_position</th>\n",
       "      <th>label</th>\n",
       "    </tr>\n",
       "  </thead>\n",
       "  <tbody>\n",
       "    <tr>\n",
       "      <th>0</th>\n",
       "      <td>0004cfab-14fd-4e49-80ba-63a80b6bddd6</td>\n",
       "      <td>0004cfab-14fd-4e49-80ba-63a80b6bddd6.dcm</td>\n",
       "      <td>0004cfab-14fd-4e49-80ba-63a80b6bddd6.png</td>\n",
       "      <td>F</td>\n",
       "      <td>51</td>\n",
       "      <td>PA</td>\n",
       "      <td>0</td>\n",
       "    </tr>\n",
       "    <tr>\n",
       "      <th>1</th>\n",
       "      <td>000924cf-0f8d-42bd-9158-1af53881a557</td>\n",
       "      <td>000924cf-0f8d-42bd-9158-1af53881a557.dcm</td>\n",
       "      <td>000924cf-0f8d-42bd-9158-1af53881a557.png</td>\n",
       "      <td>F</td>\n",
       "      <td>19</td>\n",
       "      <td>AP</td>\n",
       "      <td>0</td>\n",
       "    </tr>\n",
       "    <tr>\n",
       "      <th>2</th>\n",
       "      <td>000db696-cf54-4385-b10b-6b16fbb3f985</td>\n",
       "      <td>000db696-cf54-4385-b10b-6b16fbb3f985.dcm</td>\n",
       "      <td>000db696-cf54-4385-b10b-6b16fbb3f985.png</td>\n",
       "      <td>F</td>\n",
       "      <td>25</td>\n",
       "      <td>AP</td>\n",
       "      <td>1</td>\n",
       "    </tr>\n",
       "    <tr>\n",
       "      <th>3</th>\n",
       "      <td>000fe35a-2649-43d4-b027-e67796d412e0</td>\n",
       "      <td>000fe35a-2649-43d4-b027-e67796d412e0.dcm</td>\n",
       "      <td>000fe35a-2649-43d4-b027-e67796d412e0.png</td>\n",
       "      <td>M</td>\n",
       "      <td>40</td>\n",
       "      <td>AP</td>\n",
       "      <td>1</td>\n",
       "    </tr>\n",
       "    <tr>\n",
       "      <th>4</th>\n",
       "      <td>001031d9-f904-4a23-b3e5-2c088acd19c6</td>\n",
       "      <td>001031d9-f904-4a23-b3e5-2c088acd19c6.dcm</td>\n",
       "      <td>001031d9-f904-4a23-b3e5-2c088acd19c6.png</td>\n",
       "      <td>M</td>\n",
       "      <td>57</td>\n",
       "      <td>PA</td>\n",
       "      <td>1</td>\n",
       "    </tr>\n",
       "  </tbody>\n",
       "</table>\n",
       "</div>"
      ],
      "text/plain": [
       "                             patient_id  \\\n",
       "0  0004cfab-14fd-4e49-80ba-63a80b6bddd6   \n",
       "1  000924cf-0f8d-42bd-9158-1af53881a557   \n",
       "2  000db696-cf54-4385-b10b-6b16fbb3f985   \n",
       "3  000fe35a-2649-43d4-b027-e67796d412e0   \n",
       "4  001031d9-f904-4a23-b3e5-2c088acd19c6   \n",
       "\n",
       "                                      dicom  \\\n",
       "0  0004cfab-14fd-4e49-80ba-63a80b6bddd6.dcm   \n",
       "1  000924cf-0f8d-42bd-9158-1af53881a557.dcm   \n",
       "2  000db696-cf54-4385-b10b-6b16fbb3f985.dcm   \n",
       "3  000fe35a-2649-43d4-b027-e67796d412e0.dcm   \n",
       "4  001031d9-f904-4a23-b3e5-2c088acd19c6.dcm   \n",
       "\n",
       "                                       xray sex age view_position  label  \n",
       "0  0004cfab-14fd-4e49-80ba-63a80b6bddd6.png   F  51            PA      0  \n",
       "1  000924cf-0f8d-42bd-9158-1af53881a557.png   F  19            AP      0  \n",
       "2  000db696-cf54-4385-b10b-6b16fbb3f985.png   F  25            AP      1  \n",
       "3  000fe35a-2649-43d4-b027-e67796d412e0.png   M  40            AP      1  \n",
       "4  001031d9-f904-4a23-b3e5-2c088acd19c6.png   M  57            PA      1  "
      ]
     },
     "execution_count": 7,
     "metadata": {},
     "output_type": "execute_result"
    }
   ],
   "source": [
    "rsna_data.head(5)"
   ]
  },
  {
   "cell_type": "code",
   "execution_count": 8,
   "id": "promotional-midwest",
   "metadata": {},
   "outputs": [],
   "source": [
    "rsna_df=shuffle(rsna_data)\n",
    "rsna_df['label_description']=rsna_df['label'].map({0:'Not Pneumonia',1:'Pneumonia'})\n",
    "rsna_df['age_group']=pd.cut(rsna_df['age'].astype('int'),[1,20,30,40,50,60,90,100],right=True)"
   ]
  },
  {
   "cell_type": "code",
   "execution_count": 9,
   "id": "revolutionary-poetry",
   "metadata": {},
   "outputs": [
    {
     "data": {
      "text/plain": [
       "(6000, 9)"
      ]
     },
     "execution_count": 9,
     "metadata": {},
     "output_type": "execute_result"
    }
   ],
   "source": [
    "pneumonia_df=rsna_df[rsna_df['label']==1].sample(n=6000,random_state=1)\n",
    "pneumonia_df.shape"
   ]
  },
  {
   "cell_type": "code",
   "execution_count": 10,
   "id": "contained-symbol",
   "metadata": {},
   "outputs": [
    {
     "data": {
      "text/plain": [
       "(6000, 9)"
      ]
     },
     "execution_count": 10,
     "metadata": {},
     "output_type": "execute_result"
    }
   ],
   "source": [
    "nofinding_df=rsna_df[rsna_df['label']==0].sample(n=6000, random_state=1)\n",
    "nofinding_df.shape"
   ]
  },
  {
   "cell_type": "code",
   "execution_count": 11,
   "id": "extended-player",
   "metadata": {},
   "outputs": [
    {
     "data": {
      "text/plain": [
       "(12000, 9)"
      ]
     },
     "execution_count": 11,
     "metadata": {},
     "output_type": "execute_result"
    }
   ],
   "source": [
    "rsna_final_df=pd.concat([pneumonia_df,nofinding_df])\n",
    "rsna_final_df.shape"
   ]
  },
  {
   "cell_type": "code",
   "execution_count": 12,
   "id": "stretch-train",
   "metadata": {},
   "outputs": [
    {
     "data": {
      "text/html": [
       "<div>\n",
       "<style scoped>\n",
       "    .dataframe tbody tr th:only-of-type {\n",
       "        vertical-align: middle;\n",
       "    }\n",
       "\n",
       "    .dataframe tbody tr th {\n",
       "        vertical-align: top;\n",
       "    }\n",
       "\n",
       "    .dataframe thead th {\n",
       "        text-align: right;\n",
       "    }\n",
       "</style>\n",
       "<table border=\"1\" class=\"dataframe\">\n",
       "  <thead>\n",
       "    <tr style=\"text-align: right;\">\n",
       "      <th></th>\n",
       "      <th>patient_id</th>\n",
       "      <th>dicom</th>\n",
       "      <th>xray</th>\n",
       "      <th>sex</th>\n",
       "      <th>age</th>\n",
       "      <th>view_position</th>\n",
       "      <th>label</th>\n",
       "      <th>label_description</th>\n",
       "      <th>age_group</th>\n",
       "    </tr>\n",
       "  </thead>\n",
       "  <tbody>\n",
       "    <tr>\n",
       "      <th>2612</th>\n",
       "      <td>2ae3e7ba-a0fe-4f0a-96db-d337714aa657</td>\n",
       "      <td>2ae3e7ba-a0fe-4f0a-96db-d337714aa657.dcm</td>\n",
       "      <td>2ae3e7ba-a0fe-4f0a-96db-d337714aa657.png</td>\n",
       "      <td>M</td>\n",
       "      <td>23</td>\n",
       "      <td>PA</td>\n",
       "      <td>1</td>\n",
       "      <td>Pneumonia</td>\n",
       "      <td>(20, 30]</td>\n",
       "    </tr>\n",
       "    <tr>\n",
       "      <th>13661</th>\n",
       "      <td>8e9b628f-2e78-4ec1-91ee-3a8e65357ea9</td>\n",
       "      <td>8e9b628f-2e78-4ec1-91ee-3a8e65357ea9.dcm</td>\n",
       "      <td>8e9b628f-2e78-4ec1-91ee-3a8e65357ea9.png</td>\n",
       "      <td>M</td>\n",
       "      <td>64</td>\n",
       "      <td>AP</td>\n",
       "      <td>0</td>\n",
       "      <td>Not Pneumonia</td>\n",
       "      <td>(60, 90]</td>\n",
       "    </tr>\n",
       "    <tr>\n",
       "      <th>407</th>\n",
       "      <td>06d5a58d-baf1-4937-bfc3-00db1fb2b1be</td>\n",
       "      <td>06d5a58d-baf1-4937-bfc3-00db1fb2b1be.dcm</td>\n",
       "      <td>06d5a58d-baf1-4937-bfc3-00db1fb2b1be.png</td>\n",
       "      <td>M</td>\n",
       "      <td>9</td>\n",
       "      <td>AP</td>\n",
       "      <td>1</td>\n",
       "      <td>Pneumonia</td>\n",
       "      <td>(1, 20]</td>\n",
       "    </tr>\n",
       "    <tr>\n",
       "      <th>14529</th>\n",
       "      <td>9673d5f3-fc1c-49bc-902a-81ff14db1da0</td>\n",
       "      <td>9673d5f3-fc1c-49bc-902a-81ff14db1da0.dcm</td>\n",
       "      <td>9673d5f3-fc1c-49bc-902a-81ff14db1da0.png</td>\n",
       "      <td>M</td>\n",
       "      <td>23</td>\n",
       "      <td>AP</td>\n",
       "      <td>1</td>\n",
       "      <td>Pneumonia</td>\n",
       "      <td>(20, 30]</td>\n",
       "    </tr>\n",
       "    <tr>\n",
       "      <th>2839</th>\n",
       "      <td>3036ca10-8d42-4749-81e2-8ed235a6a567</td>\n",
       "      <td>3036ca10-8d42-4749-81e2-8ed235a6a567.dcm</td>\n",
       "      <td>3036ca10-8d42-4749-81e2-8ed235a6a567.png</td>\n",
       "      <td>M</td>\n",
       "      <td>39</td>\n",
       "      <td>PA</td>\n",
       "      <td>1</td>\n",
       "      <td>Pneumonia</td>\n",
       "      <td>(30, 40]</td>\n",
       "    </tr>\n",
       "  </tbody>\n",
       "</table>\n",
       "</div>"
      ],
      "text/plain": [
       "                                 patient_id  \\\n",
       "2612   2ae3e7ba-a0fe-4f0a-96db-d337714aa657   \n",
       "13661  8e9b628f-2e78-4ec1-91ee-3a8e65357ea9   \n",
       "407    06d5a58d-baf1-4937-bfc3-00db1fb2b1be   \n",
       "14529  9673d5f3-fc1c-49bc-902a-81ff14db1da0   \n",
       "2839   3036ca10-8d42-4749-81e2-8ed235a6a567   \n",
       "\n",
       "                                          dicom  \\\n",
       "2612   2ae3e7ba-a0fe-4f0a-96db-d337714aa657.dcm   \n",
       "13661  8e9b628f-2e78-4ec1-91ee-3a8e65357ea9.dcm   \n",
       "407    06d5a58d-baf1-4937-bfc3-00db1fb2b1be.dcm   \n",
       "14529  9673d5f3-fc1c-49bc-902a-81ff14db1da0.dcm   \n",
       "2839   3036ca10-8d42-4749-81e2-8ed235a6a567.dcm   \n",
       "\n",
       "                                           xray sex age view_position  label  \\\n",
       "2612   2ae3e7ba-a0fe-4f0a-96db-d337714aa657.png   M  23            PA      1   \n",
       "13661  8e9b628f-2e78-4ec1-91ee-3a8e65357ea9.png   M  64            AP      0   \n",
       "407    06d5a58d-baf1-4937-bfc3-00db1fb2b1be.png   M   9            AP      1   \n",
       "14529  9673d5f3-fc1c-49bc-902a-81ff14db1da0.png   M  23            AP      1   \n",
       "2839   3036ca10-8d42-4749-81e2-8ed235a6a567.png   M  39            PA      1   \n",
       "\n",
       "      label_description age_group  \n",
       "2612          Pneumonia  (20, 30]  \n",
       "13661     Not Pneumonia  (60, 90]  \n",
       "407           Pneumonia   (1, 20]  \n",
       "14529         Pneumonia  (20, 30]  \n",
       "2839          Pneumonia  (30, 40]  "
      ]
     },
     "execution_count": 12,
     "metadata": {},
     "output_type": "execute_result"
    }
   ],
   "source": [
    "rsna_final_df=shuffle(rsna_final_df)\n",
    "rsna_final_df.head(5)"
   ]
  },
  {
   "cell_type": "code",
   "execution_count": 13,
   "id": "european-contact",
   "metadata": {},
   "outputs": [
    {
     "data": {
      "image/png": "[encoded data removed]",
      "text/plain": [
       "<Figure size 432x288 with 1 Axes>"
      ]
     },
     "metadata": {
      "needs_background": "light"
     },
     "output_type": "display_data"
    }
   ],
   "source": [
    "total = float(len(rsna_data)) # one person per row\n",
    "ax = sns.countplot(x='sex',data=rsna_data,order=['M','F']);\n",
    "for p in ax.patches:\n",
    "    height = p.get_height()\n",
    "    ax.text(p.get_x()+p.get_width()/2.,\n",
    "            height + 4,\n",
    "            '{:1.2f}%'.format(height/total),\n",
    "            ha=\"center\")\n",
    "plt.title(\"Distribution of Gender - Entire Data\")    \n",
    "plt.show()"
   ]
  },
  {
   "cell_type": "code",
   "execution_count": 14,
   "id": "fifty-stopping",
   "metadata": {},
   "outputs": [
    {
     "data": {
      "image/png": "[encoded data removed]",
      "text/plain": [
       "<Figure size 432x288 with 1 Axes>"
      ]
     },
     "metadata": {
      "needs_background": "light"
     },
     "output_type": "display_data"
    }
   ],
   "source": [
    "total = float(len(rsna_final_df)) # one person per row\n",
    "ax = sns.countplot(x='sex',data=rsna_final_df,order=['M','F']);\n",
    "for p in ax.patches:\n",
    "    height = p.get_height()\n",
    "    ax.text(p.get_x()+p.get_width()/2.,\n",
    "            height + 4,\n",
    "            '{:1.2f}%'.format(height/total),\n",
    "            ha=\"center\")\n",
    "plt.title(\"Distribution of Gender - Subset Data\")    \n",
    "plt.show()"
   ]
  },
  {
   "cell_type": "code",
   "execution_count": 15,
   "id": "average-reality",
   "metadata": {},
   "outputs": [
    {
     "data": {
      "image/png": "[encoded data removed]",
      "text/plain": [
       "<Figure size 1080x360 with 2 Axes>"
      ]
     },
     "metadata": {
      "needs_background": "light"
     },
     "output_type": "display_data"
    }
   ],
   "source": [
    "plt.figure(figsize=(15,5))\n",
    "plt.subplot(1,2,1)\n",
    "sns.countplot(x='sex',data=rsna_data,order=['M','F']);\n",
    "plt.title('Distribution of Gender - Entire Data');\n",
    "plt.subplot(1,2,2)\n",
    "sns.countplot(x='sex',data=rsna_final_df,order=['M','F']);\n",
    "plt.title('Distribution of Gender - Subset Data');"
   ]
  },
  {
   "cell_type": "code",
   "execution_count": 16,
   "id": "unauthorized-laptop",
   "metadata": {},
   "outputs": [
    {
     "data": {
      "image/png": "[encoded data removed]",
      "text/plain": [
       "<Figure size 432x288 with 1 Axes>"
      ]
     },
     "metadata": {
      "needs_background": "light"
     },
     "output_type": "display_data"
    }
   ],
   "source": [
    "total = float(len(rsna_df)) # one person per row\n",
    "ax = sns.countplot(x='label_description',hue='sex',data=rsna_df,order=['Not Pneumonia','Pneumonia']);\n",
    "for p in ax.patches:\n",
    "    height = p.get_height()\n",
    "    ax.text(p.get_x()+p.get_width()/2.,\n",
    "            height + 4,\n",
    "            '{:1.2f}%'.format(height/total),\n",
    "            ha=\"center\")\n",
    "plt.title(\"Distribution of Pathology - Entire Data\")    \n",
    "plt.show()"
   ]
  },
  {
   "cell_type": "code",
   "execution_count": 17,
   "id": "united-truth",
   "metadata": {},
   "outputs": [
    {
     "data": {
      "image/png": "[encoded data removed]",
      "text/plain": [
       "<Figure size 432x288 with 1 Axes>"
      ]
     },
     "metadata": {
      "needs_background": "light"
     },
     "output_type": "display_data"
    }
   ],
   "source": [
    "total = float(len(rsna_final_df)) # one person per row\n",
    "ax = sns.countplot(x='label_description',hue='sex',data=rsna_final_df,order=['Not Pneumonia','Pneumonia']);\n",
    "for p in ax.patches:\n",
    "    height = p.get_height()\n",
    "    ax.text(p.get_x()+p.get_width()/2.,\n",
    "            height + 4,\n",
    "            '{:1.2f}%'.format(height/total),\n",
    "            ha=\"center\")\n",
    "plt.title(\"Distribution of Pathology - Subset Data\")    \n",
    "plt.show()"
   ]
  },
  {
   "cell_type": "code",
   "execution_count": 41,
   "id": "further-month",
   "metadata": {},
   "outputs": [
    {
     "data": {
      "image/png": "[encoded data removed]",
      "text/plain": [
       "<Figure size 1080x360 with 2 Axes>"
      ]
     },
     "metadata": {
      "needs_background": "light"
     },
     "output_type": "display_data"
    }
   ],
   "source": [
    "plt.figure(figsize=(15,5))\n",
    "plt.subplot(1,2,1)\n",
    "sns.countplot(x='label_description',hue='sex',data=rsna_df,order=['Not Pneumonia','Pneumonia']);\n",
    "plt.title('Distribution of Pathology - Entire Data');\n",
    "plt.subplot(1,2,2)\n",
    "sns.countplot(x='label_description',data=rsna_final_df,order=['Not Pneumonia','Pneumonia']);\n",
    "plt.title('Distribution of Pathology - Subset Data');"
   ]
  },
  {
   "cell_type": "code",
   "execution_count": 19,
   "id": "encouraging-conjunction",
   "metadata": {},
   "outputs": [
    {
     "data": {
      "image/png": "[encoded data removed]",
      "text/plain": [
       "<Figure size 432x288 with 1 Axes>"
      ]
     },
     "metadata": {
      "needs_background": "light"
     },
     "output_type": "display_data"
    }
   ],
   "source": [
    "total = float(len(rsna_df)) # one person per row\n",
    "ax = sns.countplot(x='age_group',data=rsna_df);\n",
    "for p in ax.patches:\n",
    "    height = p.get_height()\n",
    "    ax.text(p.get_x()+p.get_width()/2.,\n",
    "            height + 4,\n",
    "            '{:1.2f}%'.format(height/total),\n",
    "            ha=\"center\")\n",
    "plt.title(\"Distribution of Age - Entire Data\")    \n",
    "plt.show()"
   ]
  },
  {
   "cell_type": "code",
   "execution_count": 20,
   "id": "attempted-capability",
   "metadata": {},
   "outputs": [
    {
     "data": {
      "image/png": "[encoded data removed]",
      "text/plain": [
       "<Figure size 432x288 with 1 Axes>"
      ]
     },
     "metadata": {
      "needs_background": "light"
     },
     "output_type": "display_data"
    }
   ],
   "source": [
    "total = float(len(rsna_final_df)) # one person per row\n",
    "ax = sns.countplot(x='age_group',data=rsna_final_df);\n",
    "for p in ax.patches:\n",
    "    height = p.get_height()\n",
    "    ax.text(p.get_x()+p.get_width()/2.,\n",
    "            height + 4,\n",
    "            '{:1.2f}%'.format(height/total),\n",
    "            ha=\"center\")\n",
    "plt.title(\"Distribution of Age - Subset Data\")    \n",
    "plt.show()"
   ]
  },
  {
   "cell_type": "code",
   "execution_count": 21,
   "id": "needed-shopping",
   "metadata": {},
   "outputs": [
    {
     "data": {
      "image/png": "[encoded data removed]",
      "text/plain": [
       "<Figure size 1080x360 with 2 Axes>"
      ]
     },
     "metadata": {
      "needs_background": "light"
     },
     "output_type": "display_data"
    }
   ],
   "source": [
    "plt.figure(figsize=(15,5))\n",
    "plt.subplot(1,2,1)\n",
    "sns.countplot(x='age_group',data=rsna_df);\n",
    "plt.title('Distribution of Age Group - Entire Data');\n",
    "plt.xticks(rotation=90)\n",
    "plt.subplot(1,2,2)\n",
    "sns.countplot(x='age_group',data=rsna_final_df);\n",
    "plt.title('Distribution of Age Group - Subset Data');\n",
    "plt.xticks(rotation=90);"
   ]
  },
  {
   "cell_type": "code",
   "execution_count": 22,
   "id": "roman-malta",
   "metadata": {},
   "outputs": [
    {
     "data": {
      "image/png": "[encoded data removed]",
      "text/plain": [
       "<Figure size 432x288 with 1 Axes>"
      ]
     },
     "metadata": {
      "needs_background": "light"
     },
     "output_type": "display_data"
    }
   ],
   "source": [
    "total = float(len(rsna_df)) # one person per row\n",
    "ax = sns.countplot(x='view_position',data=rsna_df,order=['AP','PA']);\n",
    "for p in ax.patches:\n",
    "    height = p.get_height()\n",
    "    ax.text(p.get_x()+p.get_width()/2.,\n",
    "            height + 4,\n",
    "            '{:1.2f}%'.format(height/total),\n",
    "            ha=\"center\")\n",
    "plt.title(\"Distribution of Gender - Subset Data\")    \n",
    "plt.show()"
   ]
  },
  {
   "cell_type": "code",
   "execution_count": 23,
   "id": "lovely-oriental",
   "metadata": {},
   "outputs": [
    {
     "data": {
      "image/png": "[encoded data removed]",
      "text/plain": [
       "<Figure size 432x288 with 1 Axes>"
      ]
     },
     "metadata": {
      "needs_background": "light"
     },
     "output_type": "display_data"
    }
   ],
   "source": [
    "total = float(len(rsna_final_df)) # one person per row\n",
    "ax = sns.countplot(x='view_position',data=rsna_final_df,order=['AP','PA']);\n",
    "for p in ax.patches:\n",
    "    height = p.get_height()\n",
    "    ax.text(p.get_x()+p.get_width()/2.,\n",
    "            height + 4,\n",
    "            '{:1.2f}%'.format(height/total),\n",
    "            ha=\"center\")\n",
    "plt.title(\"Distribution of Gender - Subset Data\")    \n",
    "plt.show()"
   ]
  },
  {
   "cell_type": "code",
   "execution_count": 24,
   "id": "happy-wallace",
   "metadata": {},
   "outputs": [
    {
     "data": {
      "image/png": "[encoded data removed]",
      "text/plain": [
       "<Figure size 1080x360 with 2 Axes>"
      ]
     },
     "metadata": {
      "needs_background": "light"
     },
     "output_type": "display_data"
    }
   ],
   "source": [
    "plt.figure(figsize=(15,5))\n",
    "plt.subplot(1,2,1)\n",
    "sns.countplot(x='view_position',data=rsna_df,order=['AP','PA']);\n",
    "plt.title('Distribution of View Position - Entire Data');\n",
    "plt.subplot(1,2,2)\n",
    "sns.countplot(x='view_position',data=rsna_final_df,order=['AP','PA']);\n",
    "plt.title('Distribution of View Position - Subset Data');"
   ]
  },
  {
   "cell_type": "code",
   "execution_count": 25,
   "id": "olympic-relief",
   "metadata": {},
   "outputs": [
    {
     "data": {
      "text/html": [
       "<div>\n",
       "<style scoped>\n",
       "    .dataframe tbody tr th:only-of-type {\n",
       "        vertical-align: middle;\n",
       "    }\n",
       "\n",
       "    .dataframe tbody tr th {\n",
       "        vertical-align: top;\n",
       "    }\n",
       "\n",
       "    .dataframe thead th {\n",
       "        text-align: right;\n",
       "    }\n",
       "</style>\n",
       "<table border=\"1\" class=\"dataframe\">\n",
       "  <thead>\n",
       "    <tr style=\"text-align: right;\">\n",
       "      <th></th>\n",
       "      <th>patient_id</th>\n",
       "      <th>dicom</th>\n",
       "      <th>xray</th>\n",
       "      <th>sex</th>\n",
       "      <th>age</th>\n",
       "      <th>view_position</th>\n",
       "      <th>label</th>\n",
       "      <th>label_description</th>\n",
       "      <th>age_group</th>\n",
       "    </tr>\n",
       "  </thead>\n",
       "  <tbody>\n",
       "    <tr>\n",
       "      <th>2612</th>\n",
       "      <td>2ae3e7ba-a0fe-4f0a-96db-d337714aa657</td>\n",
       "      <td>2ae3e7ba-a0fe-4f0a-96db-d337714aa657.dcm</td>\n",
       "      <td>2ae3e7ba-a0fe-4f0a-96db-d337714aa657.png</td>\n",
       "      <td>M</td>\n",
       "      <td>23</td>\n",
       "      <td>PA</td>\n",
       "      <td>1</td>\n",
       "      <td>Pneumonia</td>\n",
       "      <td>(20, 30]</td>\n",
       "    </tr>\n",
       "    <tr>\n",
       "      <th>13661</th>\n",
       "      <td>8e9b628f-2e78-4ec1-91ee-3a8e65357ea9</td>\n",
       "      <td>8e9b628f-2e78-4ec1-91ee-3a8e65357ea9.dcm</td>\n",
       "      <td>8e9b628f-2e78-4ec1-91ee-3a8e65357ea9.png</td>\n",
       "      <td>M</td>\n",
       "      <td>64</td>\n",
       "      <td>AP</td>\n",
       "      <td>0</td>\n",
       "      <td>Not Pneumonia</td>\n",
       "      <td>(60, 90]</td>\n",
       "    </tr>\n",
       "    <tr>\n",
       "      <th>407</th>\n",
       "      <td>06d5a58d-baf1-4937-bfc3-00db1fb2b1be</td>\n",
       "      <td>06d5a58d-baf1-4937-bfc3-00db1fb2b1be.dcm</td>\n",
       "      <td>06d5a58d-baf1-4937-bfc3-00db1fb2b1be.png</td>\n",
       "      <td>M</td>\n",
       "      <td>9</td>\n",
       "      <td>AP</td>\n",
       "      <td>1</td>\n",
       "      <td>Pneumonia</td>\n",
       "      <td>(1, 20]</td>\n",
       "    </tr>\n",
       "    <tr>\n",
       "      <th>14529</th>\n",
       "      <td>9673d5f3-fc1c-49bc-902a-81ff14db1da0</td>\n",
       "      <td>9673d5f3-fc1c-49bc-902a-81ff14db1da0.dcm</td>\n",
       "      <td>9673d5f3-fc1c-49bc-902a-81ff14db1da0.png</td>\n",
       "      <td>M</td>\n",
       "      <td>23</td>\n",
       "      <td>AP</td>\n",
       "      <td>1</td>\n",
       "      <td>Pneumonia</td>\n",
       "      <td>(20, 30]</td>\n",
       "    </tr>\n",
       "    <tr>\n",
       "      <th>2839</th>\n",
       "      <td>3036ca10-8d42-4749-81e2-8ed235a6a567</td>\n",
       "      <td>3036ca10-8d42-4749-81e2-8ed235a6a567.dcm</td>\n",
       "      <td>3036ca10-8d42-4749-81e2-8ed235a6a567.png</td>\n",
       "      <td>M</td>\n",
       "      <td>39</td>\n",
       "      <td>PA</td>\n",
       "      <td>1</td>\n",
       "      <td>Pneumonia</td>\n",
       "      <td>(30, 40]</td>\n",
       "    </tr>\n",
       "  </tbody>\n",
       "</table>\n",
       "</div>"
      ],
      "text/plain": [
       "                                 patient_id  \\\n",
       "2612   2ae3e7ba-a0fe-4f0a-96db-d337714aa657   \n",
       "13661  8e9b628f-2e78-4ec1-91ee-3a8e65357ea9   \n",
       "407    06d5a58d-baf1-4937-bfc3-00db1fb2b1be   \n",
       "14529  9673d5f3-fc1c-49bc-902a-81ff14db1da0   \n",
       "2839   3036ca10-8d42-4749-81e2-8ed235a6a567   \n",
       "\n",
       "                                          dicom  \\\n",
       "2612   2ae3e7ba-a0fe-4f0a-96db-d337714aa657.dcm   \n",
       "13661  8e9b628f-2e78-4ec1-91ee-3a8e65357ea9.dcm   \n",
       "407    06d5a58d-baf1-4937-bfc3-00db1fb2b1be.dcm   \n",
       "14529  9673d5f3-fc1c-49bc-902a-81ff14db1da0.dcm   \n",
       "2839   3036ca10-8d42-4749-81e2-8ed235a6a567.dcm   \n",
       "\n",
       "                                           xray sex age view_position  label  \\\n",
       "2612   2ae3e7ba-a0fe-4f0a-96db-d337714aa657.png   M  23            PA      1   \n",
       "13661  8e9b628f-2e78-4ec1-91ee-3a8e65357ea9.png   M  64            AP      0   \n",
       "407    06d5a58d-baf1-4937-bfc3-00db1fb2b1be.png   M   9            AP      1   \n",
       "14529  9673d5f3-fc1c-49bc-902a-81ff14db1da0.png   M  23            AP      1   \n",
       "2839   3036ca10-8d42-4749-81e2-8ed235a6a567.png   M  39            PA      1   \n",
       "\n",
       "      label_description age_group  \n",
       "2612          Pneumonia  (20, 30]  \n",
       "13661     Not Pneumonia  (60, 90]  \n",
       "407           Pneumonia   (1, 20]  \n",
       "14529         Pneumonia  (20, 30]  \n",
       "2839          Pneumonia  (30, 40]  "
      ]
     },
     "execution_count": 25,
     "metadata": {},
     "output_type": "execute_result"
    }
   ],
   "source": [
    "rsna_final_df.head()"
   ]
  },
  {
   "cell_type": "code",
   "execution_count": 27,
   "id": "judicial-england",
   "metadata": {},
   "outputs": [],
   "source": [
    "rsna_final_df.to_csv('RSNA_Subset_Pneumonia.csv')\n",
    "rsna_data.to_csv('RSNA_Pneumonia.csv')"
   ]
  },
  {
   "cell_type": "code",
   "execution_count": 28,
   "id": "developmental-locator",
   "metadata": {},
   "outputs": [],
   "source": [
    "pneumonia_list=list(rsna_final_df[rsna_final_df['label']==1]['dicom'].values)\n",
    "nofinding_list=list(rsna_final_df[rsna_final_df['label']==0]['dicom'].values)"
   ]
  },
  {
   "cell_type": "code",
   "execution_count": 29,
   "id": "individual-atlas",
   "metadata": {},
   "outputs": [],
   "source": [
    "pneumonia_train=pneumonia_list[0:4200]\n",
    "nofinding_train=nofinding_list[0:4200]\n",
    "pneumonia_val=pneumonia_list[4200:5100]\n",
    "nofinding_val=nofinding_list[4200:5100]\n",
    "pneumonia_test=pneumonia_list[5100:6000]\n",
    "nofinding_test=nofinding_list[5100:6000]"
   ]
  },
  {
   "cell_type": "code",
   "execution_count": 33,
   "id": "painful-authorization",
   "metadata": {},
   "outputs": [],
   "source": [
    "train_df=pd.DataFrame(data=pneumonia_train+nofinding_train,columns=['filename'])\n",
    "train_df.to_csv('RSNA_Pneumonia_Train.csv')\n",
    "val_df=pd.DataFrame(data=pneumonia_val+nofinding_val,columns=['filename'])\n",
    "val_df.to_csv('RSNA_Pneumonia_Val.csv')\n",
    "test_df=pd.DataFrame(data=pneumonia_test+nofinding_test,columns=['filename'])\n",
    "test_df.to_csv('RSNA_Pneumonia_Test.csv')"
   ]
  },
  {
   "cell_type": "code",
   "execution_count": 35,
   "id": "acquired-vehicle",
   "metadata": {},
   "outputs": [],
   "source": [
    "dest=r\"C:\\\\Chest X-rays\\\\Datasets\\\\RSNA_Pneumonia\\\\Train\\\\Pneumonia\"\n",
    "for img in pneumonia_train:\n",
    "    src=\"C:\\\\Chest X-rays\\\\Datasets\\\\RSNA_Pneumonia_Dataset\\\\stage_2_train_images\\\\\"+img\n",
    "    dst=(dest+\"\\\\\"+img).replace(\".dcm\",\".png\")\n",
    "    convert_dcm_png(src,dst)"
   ]
  },
  {
   "cell_type": "code",
   "execution_count": 36,
   "id": "irish-regular",
   "metadata": {},
   "outputs": [],
   "source": [
    "dest=r\"C:\\\\Chest X-rays\\\\Datasets\\\\RSNA_Pneumonia\\\\Train\\\\Not Pneumonia\"\n",
    "for img in nofinding_train:\n",
    "    src=\"C:\\\\Chest X-rays\\\\Datasets\\\\RSNA_Pneumonia_Dataset\\\\stage_2_train_images\\\\\"+img\n",
    "    dst=(dest+\"\\\\\"+img).replace(\".dcm\",\".png\")\n",
    "    convert_dcm_png(src,dst)"
   ]
  },
  {
   "cell_type": "code",
   "execution_count": 37,
   "id": "streaming-rainbow",
   "metadata": {},
   "outputs": [],
   "source": [
    "dest=r\"C:\\\\Chest X-rays\\\\Datasets\\\\RSNA_Pneumonia\\\\Val\\\\Pneumonia\"\n",
    "for img in pneumonia_val:\n",
    "    src=\"C:\\\\Chest X-rays\\\\Datasets\\\\RSNA_Pneumonia_Dataset\\\\stage_2_train_images\\\\\"+img\n",
    "    dst=(dest+\"\\\\\"+img).replace(\".dcm\",\".png\")\n",
    "    convert_dcm_png(src,dst)"
   ]
  },
  {
   "cell_type": "code",
   "execution_count": 38,
   "id": "federal-hughes",
   "metadata": {},
   "outputs": [],
   "source": [
    "dest=r\"C:\\\\Chest X-rays\\\\Datasets\\\\RSNA_Pneumonia\\\\Val\\\\Not Pneumonia\"\n",
    "for img in nofinding_val:\n",
    "    src=\"C:\\\\Chest X-rays\\\\Datasets\\\\RSNA_Pneumonia_Dataset\\\\stage_2_train_images\\\\\"+img\n",
    "    dst=(dest+\"\\\\\"+img).replace(\".dcm\",\".png\")\n",
    "    convert_dcm_png(src,dst)"
   ]
  },
  {
   "cell_type": "code",
   "execution_count": 39,
   "id": "residential-headset",
   "metadata": {},
   "outputs": [],
   "source": [
    "dest=r\"C:\\\\Chest X-rays\\\\Datasets\\\\RSNA_Pneumonia\\\\Test\\\\Pneumonia\"\n",
    "for img in pneumonia_test:\n",
    "    src=\"C:\\\\Chest X-rays\\\\Datasets\\\\RSNA_Pneumonia_Dataset\\\\stage_2_train_images\\\\\"+img\n",
    "    dst=(dest+\"\\\\\"+img).replace(\".dcm\",\".png\")\n",
    "    convert_dcm_png(src,dst)"
   ]
  },
  {
   "cell_type": "code",
   "execution_count": 40,
   "id": "coordinate-synthesis",
   "metadata": {},
   "outputs": [],
   "source": [
    "dest=r\"C:\\\\Chest X-rays\\\\Datasets\\\\RSNA_Pneumonia\\\\Test\\\\Not Pneumonia\"\n",
    "for img in nofinding_test:\n",
    "    src=\"C:\\\\Chest X-rays\\\\Datasets\\\\RSNA_Pneumonia_Dataset\\\\stage_2_train_images\\\\\"+img\n",
    "    dst=(dest+\"\\\\\"+img).replace(\".dcm\",\".png\")\n",
    "    convert_dcm_png(src,dst)"
   ]
  },
  {
   "cell_type": "code",
   "execution_count": 51,
   "id": "attractive-cycle",
   "metadata": {},
   "outputs": [
    {
     "data": {
      "image/png": "[encoded data removed]",
      "text/plain": [
       "<Figure size 432x288 with 1 Axes>"
      ]
     },
     "metadata": {
      "needs_background": "light"
     },
     "output_type": "display_data"
    }
   ],
   "source": [
    "total = float(len(rsna_final_df[rsna_final_df['dicom'].isin(test_df['filename'])])) # one person per row\n",
    "ax = sns.countplot(x='sex',data=rsna_final_df[rsna_final_df['dicom'].isin(test_df['filename'])],order=['M','F']);\n",
    "for p in ax.patches:\n",
    "    height = p.get_height()\n",
    "    ax.text(p.get_x()+p.get_width()/2.,\n",
    "            height + 4,\n",
    "            '{:1.2f}%'.format(height/total),\n",
    "            ha=\"center\")\n",
    "plt.title(\"Distribution of Gender - Test\")    \n",
    "plt.show()"
   ]
  },
  {
   "cell_type": "code",
   "execution_count": null,
   "id": "handy-exclusive",
   "metadata": {},
   "outputs": [],
   "source": []
  }
 ],
 "metadata": {
  "kernelspec": {
   "display_name": "Python 3",
   "language": "python",
   "name": "python3"
  },
  "language_info": {
   "codemirror_mode": {
    "name": "ipython",
    "version": 3
   },
   "file_extension": ".py",
   "mimetype": "text/x-python",
   "name": "python",
   "nbconvert_exporter": "python",
   "pygments_lexer": "ipython3",
   "version": "3.8.8"
  }
 },
 "nbformat": 4,
 "nbformat_minor": 5
}
